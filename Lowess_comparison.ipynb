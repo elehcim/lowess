{
 "cells": [
  {
   "cell_type": "markdown",
   "metadata": {},
   "source": [
    "# Comparison between implementations locally weighted regression LO(W)ESS"
   ]
  },
  {
   "cell_type": "markdown",
   "metadata": {},
   "source": [
    "In this noteook I investigate how `lowess` from statsmodels (using the wrapper of Allen Downey) or `loess` from skmisc behave"
   ]
  },
  {
   "cell_type": "markdown",
   "metadata": {},
   "source": [
    "One issue is how to compare consistently these smoothers with data and how to represent a confidence interval."
   ]
  },
  {
   "cell_type": "code",
   "execution_count": 1,
   "metadata": {},
   "outputs": [],
   "source": [
    "import os\n",
    "import pandas as pd\n",
    "import seaborn as sns\n",
    "import matplotlib.pylab as plt\n",
    "import matplotlib\n",
    "import numpy as np\n",
    "import ipywidgets\n",
    "import tqdm\n",
    "from astropy.table import Table\n",
    "import pickle"
   ]
  },
  {
   "cell_type": "code",
   "execution_count": 2,
   "metadata": {},
   "outputs": [],
   "source": [
    "from statsmodels.nonparametric.smoothers_lowess import lowess"
   ]
  },
  {
   "cell_type": "code",
   "execution_count": 3,
   "metadata": {},
   "outputs": [],
   "source": [
    "from skmisc.loess import loess"
   ]
  },
  {
   "cell_type": "code",
   "execution_count": 4,
   "metadata": {},
   "outputs": [],
   "source": [
    "def make_lowess(series, **kwargs):\n",
    "    \"\"\"Adapted from here: https://www.allendowney.com/blog/2019/04/01/local-regression-in-python/\"\"\"\n",
    "    endog = series.values\n",
    "    exog = series.index.values\n",
    "\n",
    "    smooth = lowess(endog, exog, **kwargs)\n",
    "    index, data = np.transpose(smooth)\n",
    "\n",
    "    return pd.Series(data, index=index)"
   ]
  },
  {
   "cell_type": "code",
   "execution_count": 5,
   "metadata": {},
   "outputs": [],
   "source": [
    "table_path = \"mb.69002_p100_a800_r600_new_adhoc_orbit_sideon_structure.fits\""
   ]
  },
  {
   "cell_type": "code",
   "execution_count": 6,
   "metadata": {},
   "outputs": [],
   "source": [
    "df = Table.read(table_path).to_pandas()"
   ]
  },
  {
   "cell_type": "code",
   "execution_count": 7,
   "metadata": {},
   "outputs": [
    {
     "data": {
      "text/html": [
       "<div>\n",
       "<style scoped>\n",
       "    .dataframe tbody tr th:only-of-type {\n",
       "        vertical-align: middle;\n",
       "    }\n",
       "\n",
       "    .dataframe tbody tr th {\n",
       "        vertical-align: top;\n",
       "    }\n",
       "\n",
       "    .dataframe thead th {\n",
       "        text-align: right;\n",
       "    }\n",
       "</style>\n",
       "<table border=\"1\" class=\"dataframe\">\n",
       "  <thead>\n",
       "    <tr style=\"text-align: right;\">\n",
       "      <th></th>\n",
       "      <th>amplitude</th>\n",
       "      <th>mu_e</th>\n",
       "      <th>r_eff</th>\n",
       "      <th>n</th>\n",
       "      <th>rms_err</th>\n",
       "      <th>exit_mode</th>\n",
       "      <th>numiter</th>\n",
       "    </tr>\n",
       "  </thead>\n",
       "  <tbody>\n",
       "    <tr>\n",
       "      <th>0</th>\n",
       "      <td>23.438982</td>\n",
       "      <td>23.438982</td>\n",
       "      <td>1.741690</td>\n",
       "      <td>0.992784</td>\n",
       "      <td>0.766364</td>\n",
       "      <td>0</td>\n",
       "      <td>101</td>\n",
       "    </tr>\n",
       "    <tr>\n",
       "      <th>1</th>\n",
       "      <td>23.353041</td>\n",
       "      <td>23.353041</td>\n",
       "      <td>1.712633</td>\n",
       "      <td>0.939289</td>\n",
       "      <td>0.712010</td>\n",
       "      <td>0</td>\n",
       "      <td>84</td>\n",
       "    </tr>\n",
       "    <tr>\n",
       "      <th>2</th>\n",
       "      <td>23.115799</td>\n",
       "      <td>23.115799</td>\n",
       "      <td>1.696579</td>\n",
       "      <td>0.782170</td>\n",
       "      <td>0.762267</td>\n",
       "      <td>0</td>\n",
       "      <td>113</td>\n",
       "    </tr>\n",
       "    <tr>\n",
       "      <th>3</th>\n",
       "      <td>23.016631</td>\n",
       "      <td>23.016631</td>\n",
       "      <td>1.693127</td>\n",
       "      <td>0.768203</td>\n",
       "      <td>0.780913</td>\n",
       "      <td>0</td>\n",
       "      <td>108</td>\n",
       "    </tr>\n",
       "    <tr>\n",
       "      <th>4</th>\n",
       "      <td>23.141034</td>\n",
       "      <td>23.141034</td>\n",
       "      <td>1.737935</td>\n",
       "      <td>0.763625</td>\n",
       "      <td>0.717844</td>\n",
       "      <td>0</td>\n",
       "      <td>99</td>\n",
       "    </tr>\n",
       "  </tbody>\n",
       "</table>\n",
       "</div>"
      ],
      "text/plain": [
       "   amplitude       mu_e     r_eff         n   rms_err  exit_mode  numiter\n",
       "0  23.438982  23.438982  1.741690  0.992784  0.766364          0      101\n",
       "1  23.353041  23.353041  1.712633  0.939289  0.712010          0       84\n",
       "2  23.115799  23.115799  1.696579  0.782170  0.762267          0      113\n",
       "3  23.016631  23.016631  1.693127  0.768203  0.780913          0      108\n",
       "4  23.141034  23.141034  1.737935  0.763625  0.717844          0       99"
      ]
     },
     "execution_count": 7,
     "metadata": {},
     "output_type": "execute_result"
    }
   ],
   "source": [
    "df.head()"
   ]
  },
  {
   "cell_type": "code",
   "execution_count": 8,
   "metadata": {},
   "outputs": [
    {
     "data": {
      "text/html": [
       "<div>\n",
       "<style scoped>\n",
       "    .dataframe tbody tr th:only-of-type {\n",
       "        vertical-align: middle;\n",
       "    }\n",
       "\n",
       "    .dataframe tbody tr th {\n",
       "        vertical-align: top;\n",
       "    }\n",
       "\n",
       "    .dataframe thead th {\n",
       "        text-align: right;\n",
       "    }\n",
       "</style>\n",
       "<table border=\"1\" class=\"dataframe\">\n",
       "  <thead>\n",
       "    <tr style=\"text-align: right;\">\n",
       "      <th></th>\n",
       "      <th>amplitude</th>\n",
       "      <th>mu_e</th>\n",
       "      <th>r_eff</th>\n",
       "      <th>n</th>\n",
       "      <th>rms_err</th>\n",
       "      <th>exit_mode</th>\n",
       "      <th>numiter</th>\n",
       "    </tr>\n",
       "  </thead>\n",
       "  <tbody>\n",
       "    <tr>\n",
       "      <th>count</th>\n",
       "      <td>563.000000</td>\n",
       "      <td>563.000000</td>\n",
       "      <td>563.000000</td>\n",
       "      <td>563.000000</td>\n",
       "      <td>563.000000</td>\n",
       "      <td>563.0</td>\n",
       "      <td>563.000000</td>\n",
       "    </tr>\n",
       "    <tr>\n",
       "      <th>mean</th>\n",
       "      <td>25.221631</td>\n",
       "      <td>25.221631</td>\n",
       "      <td>2.758051</td>\n",
       "      <td>0.767692</td>\n",
       "      <td>0.395050</td>\n",
       "      <td>0.0</td>\n",
       "      <td>99.863233</td>\n",
       "    </tr>\n",
       "    <tr>\n",
       "      <th>std</th>\n",
       "      <td>1.689513</td>\n",
       "      <td>1.689513</td>\n",
       "      <td>1.125883</td>\n",
       "      <td>0.370533</td>\n",
       "      <td>0.198346</td>\n",
       "      <td>0.0</td>\n",
       "      <td>10.096198</td>\n",
       "    </tr>\n",
       "    <tr>\n",
       "      <th>min</th>\n",
       "      <td>21.383525</td>\n",
       "      <td>21.383525</td>\n",
       "      <td>1.206687</td>\n",
       "      <td>0.126834</td>\n",
       "      <td>0.143230</td>\n",
       "      <td>0.0</td>\n",
       "      <td>74.000000</td>\n",
       "    </tr>\n",
       "    <tr>\n",
       "      <th>25%</th>\n",
       "      <td>24.045809</td>\n",
       "      <td>24.045809</td>\n",
       "      <td>1.969449</td>\n",
       "      <td>0.491435</td>\n",
       "      <td>0.228060</td>\n",
       "      <td>0.0</td>\n",
       "      <td>93.000000</td>\n",
       "    </tr>\n",
       "    <tr>\n",
       "      <th>50%</th>\n",
       "      <td>25.207991</td>\n",
       "      <td>25.207991</td>\n",
       "      <td>2.332029</td>\n",
       "      <td>0.851138</td>\n",
       "      <td>0.369301</td>\n",
       "      <td>0.0</td>\n",
       "      <td>99.000000</td>\n",
       "    </tr>\n",
       "    <tr>\n",
       "      <th>75%</th>\n",
       "      <td>26.489874</td>\n",
       "      <td>26.489874</td>\n",
       "      <td>3.442626</td>\n",
       "      <td>1.004310</td>\n",
       "      <td>0.488239</td>\n",
       "      <td>0.0</td>\n",
       "      <td>106.000000</td>\n",
       "    </tr>\n",
       "    <tr>\n",
       "      <th>max</th>\n",
       "      <td>28.544686</td>\n",
       "      <td>28.544686</td>\n",
       "      <td>5.467743</td>\n",
       "      <td>2.005144</td>\n",
       "      <td>1.310804</td>\n",
       "      <td>0.0</td>\n",
       "      <td>162.000000</td>\n",
       "    </tr>\n",
       "  </tbody>\n",
       "</table>\n",
       "</div>"
      ],
      "text/plain": [
       "        amplitude        mu_e       r_eff           n     rms_err  exit_mode  \\\n",
       "count  563.000000  563.000000  563.000000  563.000000  563.000000      563.0   \n",
       "mean    25.221631   25.221631    2.758051    0.767692    0.395050        0.0   \n",
       "std      1.689513    1.689513    1.125883    0.370533    0.198346        0.0   \n",
       "min     21.383525   21.383525    1.206687    0.126834    0.143230        0.0   \n",
       "25%     24.045809   24.045809    1.969449    0.491435    0.228060        0.0   \n",
       "50%     25.207991   25.207991    2.332029    0.851138    0.369301        0.0   \n",
       "75%     26.489874   26.489874    3.442626    1.004310    0.488239        0.0   \n",
       "max     28.544686   28.544686    5.467743    2.005144    1.310804        0.0   \n",
       "\n",
       "          numiter  \n",
       "count  563.000000  \n",
       "mean    99.863233  \n",
       "std     10.096198  \n",
       "min     74.000000  \n",
       "25%     93.000000  \n",
       "50%     99.000000  \n",
       "75%    106.000000  \n",
       "max    162.000000  "
      ]
     },
     "execution_count": 8,
     "metadata": {},
     "output_type": "execute_result"
    }
   ],
   "source": [
    "df.describe()"
   ]
  },
  {
   "cell_type": "markdown",
   "metadata": {},
   "source": [
    "This is the relation I want to smooth"
   ]
  },
  {
   "cell_type": "code",
   "execution_count": 9,
   "metadata": {},
   "outputs": [
    {
     "data": {
      "image/png": "[encoded data removed]",
      "text/plain": [
       "<Figure size 432x288 with 1 Axes>"
      ]
     },
     "metadata": {
      "needs_background": "light"
     },
     "output_type": "display_data"
    }
   ],
   "source": [
    "plt.plot(df.index, df.mu_e);"
   ]
  },
  {
   "cell_type": "markdown",
   "metadata": {},
   "source": [
    "# Let's try the LOESS from `skmisc`"
   ]
  },
  {
   "cell_type": "markdown",
   "metadata": {},
   "source": [
    "https://has2k1.github.io/scikit-misc/loess.html"
   ]
  },
  {
   "cell_type": "code",
   "execution_count": 10,
   "metadata": {},
   "outputs": [],
   "source": [
    "x = df.index\n",
    "y = df.mu_e.values"
   ]
  },
  {
   "cell_type": "code",
   "execution_count": 11,
   "metadata": {},
   "outputs": [
    {
     "data": {
      "text/plain": [
       "\u001b[0;31mInit signature:\u001b[0m \u001b[0mloess\u001b[0m\u001b[0;34m(\u001b[0m\u001b[0mself\u001b[0m\u001b[0;34m,\u001b[0m \u001b[0;34m/\u001b[0m\u001b[0;34m,\u001b[0m \u001b[0;34m*\u001b[0m\u001b[0margs\u001b[0m\u001b[0;34m,\u001b[0m \u001b[0;34m**\u001b[0m\u001b[0mkwargs\u001b[0m\u001b[0;34m)\u001b[0m\u001b[0;34m\u001b[0m\u001b[0;34m\u001b[0m\u001b[0m\n",
       "\u001b[0;31mDocstring:\u001b[0m     \n",
       "loess(x, y, weights=None, **options)\n",
       "\n",
       "Locally-weighted regression\n",
       "\n",
       "A loess object is initialized with the combined parameters of\n",
       ":class:`loess_inputs`, :class:`loess_model` and\n",
       ":class:`loess_control`. The parameters of :class:`loess_inputs`\n",
       "i.e ``x``, ``y`` and ``weights`` can be positional in that order.\n",
       "In the descriptions below, `n` is the number of observations,\n",
       "and `p` is the number of predictor variables.\n",
       "\n",
       "Parameters\n",
       "----------\n",
       "x : ndarray of shape (n, p)\n",
       "    n independent observations for p no. of variables\n",
       "y : ndarray of shape (n,)\n",
       "    A (n,) ndarray of response observations\n",
       "weights : ndarray of shape (n,) or None\n",
       "    Weights to be given to individual observations\n",
       "    in the sum of squared residuals that forms the local fitting\n",
       "    criterion. If not None, the weights should be non negative. If\n",
       "    the different observations have non-equal variances, the weights\n",
       "    should be inversely proportional to the variances. By default,\n",
       "    an unweighted fit is carried out (all the weights are one).\n",
       "**options : dict\n",
       "    The parameters of :class:`loess_model` and\n",
       "    :class:`loess_control`.\n",
       "\n",
       "Attributes\n",
       "----------\n",
       "inputs : :class:`loess_inputs`\n",
       "    Object that handles the inputs\n",
       "model : :class:`loess_model`\n",
       "    Object that handles the model\n",
       "control : :class:`loess_control`\n",
       "    Object that holds the control parameters\n",
       "kd_tree : :class:`loess_kdtree`\n",
       "    Object that holds the parameters and structures used\n",
       "    internally by the regression algorithm.\n",
       "outputs : :class:`loess_outputs`\n",
       "    Object that holds the output values and parameters.\n",
       "    These should be read after :meth:`loess.fit` has been\n",
       "    called.\n",
       "\u001b[0;31mFile:\u001b[0m           ~/Software/miniconda3/lib/python3.6/site-packages/skmisc/loess/_loess.cpython-36m-x86_64-linux-gnu.so\n",
       "\u001b[0;31mType:\u001b[0m           type\n",
       "\u001b[0;31mSubclasses:\u001b[0m     \n"
      ]
     },
     "metadata": {},
     "output_type": "display_data"
    }
   ],
   "source": [
    "loess?"
   ]
  },
  {
   "cell_type": "markdown",
   "metadata": {},
   "source": [
    "## Start by initialization and fitting"
   ]
  },
  {
   "cell_type": "code",
   "execution_count": 12,
   "metadata": {},
   "outputs": [],
   "source": [
    "l = loess(x, y, span=0.1)\n",
    "l.fit()"
   ]
  },
  {
   "cell_type": "code",
   "execution_count": 13,
   "metadata": {},
   "outputs": [
    {
     "name": "stdout",
     "output_type": "stream",
     "text": [
      "Model parameters\n",
      "----------------\n",
      "Family          : gaussian\n",
      "Span            : 0.1\n",
      "Degree          : 2\n",
      "Normalized      : True\n",
      "Parametric      : [False]\n",
      "Drop_square     : [False]\n",
      "\n",
      "Control\n",
      "-------\n",
      "Surface type     : interpolate\n",
      "Statistics       : approximate\n",
      "Trace estimation : approximate\n",
      "Cell size        : 0.2\n",
      "Nb iterations    : 4\n"
     ]
    }
   ],
   "source": [
    "print(l.input_summary())"
   ]
  },
  {
   "cell_type": "code",
   "execution_count": 14,
   "metadata": {},
   "outputs": [
    {
     "name": "stdout",
     "output_type": "stream",
     "text": [
      "Output Summary\n",
      "--------------\n",
      "Number of Observations         : 563\n",
      "Fit flag                       : 1\n",
      "Equivalent Number of Parameters: 29.8\n",
      "Residual Standard Error        : 0.2909\n"
     ]
    }
   ],
   "source": [
    "print(l.output_summary())"
   ]
  },
  {
   "cell_type": "markdown",
   "metadata": {},
   "source": [
    "## Then we can predict the local regression"
   ]
  },
  {
   "cell_type": "code",
   "execution_count": 15,
   "metadata": {},
   "outputs": [
    {
     "data": {
      "text/plain": [
       "\u001b[0;31mDocstring:\u001b[0m\n",
       "loess.predict(self, newdata, stderror=False)\n",
       "\n",
       "Compute loess estimates at the given new data points newdata.\n",
       "\n",
       "Parameters\n",
       "----------\n",
       "newdata : ndarray of shape (m, p)\n",
       "    Independent variables where the surface must be estimated,\n",
       "    with m the number of new data points, and p the number of\n",
       "    independent variables.\n",
       "stderror : boolean\n",
       "    Whether the standard error should be computed\n",
       "\n",
       "Returns\n",
       "-------\n",
       "A :class:`loess_prediction` object.\n",
       "\u001b[0;31mType:\u001b[0m      builtin_function_or_method\n"
      ]
     },
     "metadata": {},
     "output_type": "display_data"
    }
   ],
   "source": [
    "l.predict?"
   ]
  },
  {
   "cell_type": "code",
   "execution_count": 16,
   "metadata": {},
   "outputs": [],
   "source": [
    "prediction = l.predict(x, stderror=True)\n",
    "smoothed = prediction.values"
   ]
  },
  {
   "cell_type": "markdown",
   "metadata": {},
   "source": [
    "## Confidence interval can be computed"
   ]
  },
  {
   "cell_type": "code",
   "execution_count": 17,
   "metadata": {},
   "outputs": [
    {
     "data": {
      "text/plain": [
       "\u001b[0;31mDocstring:\u001b[0m\n",
       "loess_prediction.confidence(self, alpha=0.05)\n",
       "\n",
       "Returns the pointwise confidence intervals\n",
       "\n",
       "Parameters\n",
       "----------\n",
       "alpha : float\n",
       "    The alpha level for the confidence interval. The\n",
       "    default ``alpha=0.05`` returns a 95% confidence\n",
       "    interval. Therefore it must be in the range (0, 1).\n",
       "\n",
       "Returns\n",
       "-------\n",
       "out : loess_confidence_intervals\n",
       "    Confidence intervals object. It has attributes `fit`,\n",
       "    `lower` and `upper`\n",
       "\u001b[0;31mType:\u001b[0m      builtin_function_or_method\n"
      ]
     },
     "metadata": {},
     "output_type": "display_data"
    }
   ],
   "source": [
    "prediction.confidence?"
   ]
  },
  {
   "cell_type": "markdown",
   "metadata": {},
   "source": [
    "This is the 99.999% confidence interval"
   ]
  },
  {
   "cell_type": "code",
   "execution_count": 18,
   "metadata": {},
   "outputs": [],
   "source": [
    "alpha_level = 1e-5"
   ]
  },
  {
   "cell_type": "code",
   "execution_count": 19,
   "metadata": {},
   "outputs": [],
   "source": [
    "conf = prediction.confidence(alpha=alpha_level)\n",
    "\n",
    "ll = conf.lower\n",
    "ul = conf.upper"
   ]
  },
  {
   "cell_type": "code",
   "execution_count": 20,
   "metadata": {},
   "outputs": [
    {
     "data": {
      "image/png": "[encoded data removed]",
      "text/plain": [
       "<Figure size 432x288 with 1 Axes>"
      ]
     },
     "metadata": {
      "needs_background": "light"
     },
     "output_type": "display_data"
    }
   ],
   "source": [
    "# plt.scatter(x, y, s=1)\n",
    "plt.plot(x, smoothed)\n",
    "plt.fill_between(x,ll,ul,alpha=.33);"
   ]
  },
  {
   "cell_type": "markdown",
   "metadata": {},
   "source": [
    "# LOWESS from `statsmodels`"
   ]
  },
  {
   "cell_type": "code",
   "execution_count": 21,
   "metadata": {},
   "outputs": [],
   "source": [
    "my_lowess = make_lowess(df.mu_e, frac=0.1)"
   ]
  },
  {
   "cell_type": "code",
   "execution_count": 22,
   "metadata": {},
   "outputs": [
    {
     "data": {
      "text/plain": [
       "<matplotlib.legend.Legend at 0x7f6785254048>"
      ]
     },
     "execution_count": 22,
     "metadata": {},
     "output_type": "execute_result"
    },
    {
     "data": {
      "image/png": "[encoded data removed]",
      "text/plain": [
       "<Figure size 432x288 with 1 Axes>"
      ]
     },
     "metadata": {
      "needs_background": "light"
     },
     "output_type": "display_data"
    }
   ],
   "source": [
    "# plt.plot(x, y, label='data')\n",
    "plt.scatter(x, y, s=1, label='data')\n",
    "plt.plot(x, my_lowess, label='downey_lowess')\n",
    "plt.plot(x, smoothed, label='skmisc.loess')\n",
    "plt.fill_between(x,ll,ul,alpha=.33, label='confidence interval (skmisc)')\n",
    "plt.legend()"
   ]
  },
  {
   "cell_type": "markdown",
   "metadata": {},
   "source": [
    "# Rolling mean"
   ]
  },
  {
   "cell_type": "code",
   "execution_count": 23,
   "metadata": {},
   "outputs": [],
   "source": [
    "window_size = 40\n",
    "rolling = df.mu_e.rolling(window_size).mean()"
   ]
  },
  {
   "cell_type": "code",
   "execution_count": 24,
   "metadata": {},
   "outputs": [
    {
     "data": {
      "image/png": "[encoded data removed]",
      "text/plain": [
       "<Figure size 432x288 with 1 Axes>"
      ]
     },
     "metadata": {
      "needs_background": "light"
     },
     "output_type": "display_data"
    }
   ],
   "source": [
    "plt.scatter(x, y, s=1, label='data')\n",
    "plt.plot(x, rolling, label=f'rolling mean (size={window_size})', color='r');\n",
    "plt.legend();"
   ]
  },
  {
   "cell_type": "code",
   "execution_count": 25,
   "metadata": {},
   "outputs": [],
   "source": [
    "from statsmodels.nonparametric.smoothers_lowess import lowess"
   ]
  },
  {
   "cell_type": "code",
   "execution_count": 26,
   "metadata": {},
   "outputs": [
    {
     "data": {
      "text/plain": [
       "\u001b[0;31mSignature:\u001b[0m\n",
       "\u001b[0mlowess\u001b[0m\u001b[0;34m(\u001b[0m\u001b[0;34m\u001b[0m\n",
       "\u001b[0;34m\u001b[0m    \u001b[0mendog\u001b[0m\u001b[0;34m,\u001b[0m\u001b[0;34m\u001b[0m\n",
       "\u001b[0;34m\u001b[0m    \u001b[0mexog\u001b[0m\u001b[0;34m,\u001b[0m\u001b[0;34m\u001b[0m\n",
       "\u001b[0;34m\u001b[0m    \u001b[0mfrac\u001b[0m\u001b[0;34m=\u001b[0m\u001b[0;36m0.6666666666666666\u001b[0m\u001b[0;34m,\u001b[0m\u001b[0;34m\u001b[0m\n",
       "\u001b[0;34m\u001b[0m    \u001b[0mit\u001b[0m\u001b[0;34m=\u001b[0m\u001b[0;36m3\u001b[0m\u001b[0;34m,\u001b[0m\u001b[0;34m\u001b[0m\n",
       "\u001b[0;34m\u001b[0m    \u001b[0mdelta\u001b[0m\u001b[0;34m=\u001b[0m\u001b[0;36m0.0\u001b[0m\u001b[0;34m,\u001b[0m\u001b[0;34m\u001b[0m\n",
       "\u001b[0;34m\u001b[0m    \u001b[0mis_sorted\u001b[0m\u001b[0;34m=\u001b[0m\u001b[0;32mFalse\u001b[0m\u001b[0;34m,\u001b[0m\u001b[0;34m\u001b[0m\n",
       "\u001b[0;34m\u001b[0m    \u001b[0mmissing\u001b[0m\u001b[0;34m=\u001b[0m\u001b[0;34m'drop'\u001b[0m\u001b[0;34m,\u001b[0m\u001b[0;34m\u001b[0m\n",
       "\u001b[0;34m\u001b[0m    \u001b[0mreturn_sorted\u001b[0m\u001b[0;34m=\u001b[0m\u001b[0;32mTrue\u001b[0m\u001b[0;34m,\u001b[0m\u001b[0;34m\u001b[0m\n",
       "\u001b[0;34m\u001b[0m\u001b[0;34m)\u001b[0m\u001b[0;34m\u001b[0m\u001b[0;34m\u001b[0m\u001b[0m\n",
       "\u001b[0;31mDocstring:\u001b[0m\n",
       "LOWESS (Locally Weighted Scatterplot Smoothing)\n",
       "\n",
       "A lowess function that outs smoothed estimates of endog\n",
       "at the given exog values from points (exog, endog)\n",
       "\n",
       "Parameters\n",
       "----------\n",
       "endog: 1-D numpy array\n",
       "    The y-values of the observed points\n",
       "exog: 1-D numpy array\n",
       "    The x-values of the observed points\n",
       "frac: float\n",
       "    Between 0 and 1. The fraction of the data used\n",
       "    when estimating each y-value.\n",
       "it: int\n",
       "    The number of residual-based reweightings\n",
       "    to perform.\n",
       "delta: float\n",
       "    Distance within which to use linear-interpolation\n",
       "    instead of weighted regression.\n",
       "is_sorted : bool\n",
       "    If False (default), then the data will be sorted by exog before\n",
       "    calculating lowess. If True, then it is assumed that the data is\n",
       "    already sorted by exog.\n",
       "missing : str\n",
       "    Available options are 'none', 'drop', and 'raise'. If 'none', no nan\n",
       "    checking is done. If 'drop', any observations with nans are dropped.\n",
       "    If 'raise', an error is raised. Default is 'drop'.\n",
       "return_sorted : bool\n",
       "    If True (default), then the returned array is sorted by exog and has\n",
       "    missing (nan or infinite) observations removed.\n",
       "    If False, then the returned array is in the same length and the same\n",
       "    sequence of observations as the input array.\n",
       "\n",
       "Returns\n",
       "-------\n",
       "out: ndarray, float\n",
       "    The returned array is two-dimensional if return_sorted is True, and\n",
       "    one dimensional if return_sorted is False.\n",
       "    If return_sorted is True, then a numpy array with two columns. The\n",
       "    first column contains the sorted x (exog) values and the second column\n",
       "    the associated estimated y (endog) values.\n",
       "    If return_sorted is False, then only the fitted values are returned,\n",
       "    and the observations will be in the same order as the input arrays.\n",
       "\n",
       "Notes\n",
       "-----\n",
       "This lowess function implements the algorithm given in the\n",
       "reference below using local linear estimates.\n",
       "\n",
       "Suppose the input data has N points. The algorithm works by\n",
       "estimating the `smooth` y_i by taking the frac*N closest points\n",
       "to (x_i,y_i) based on their x values and estimating y_i\n",
       "using a weighted linear regression. The weight for (x_j,y_j)\n",
       "is tricube function applied to abs(x_i-x_j).\n",
       "\n",
       "If it > 1, then further weighted local linear regressions\n",
       "are performed, where the weights are the same as above\n",
       "times the _lowess_bisquare function of the residuals. Each iteration\n",
       "takes approximately the same amount of time as the original fit,\n",
       "so these iterations are expensive. They are most useful when\n",
       "the noise has extremely heavy tails, such as Cauchy noise.\n",
       "Noise with less heavy-tails, such as t-distributions with df>2,\n",
       "are less problematic. The weights downgrade the influence of\n",
       "points with large residuals. In the extreme case, points whose\n",
       "residuals are larger than 6 times the median absolute residual\n",
       "are given weight 0.\n",
       "\n",
       "`delta` can be used to save computations. For each `x_i`, regressions\n",
       "are skipped for points closer than `delta`. The next regression is\n",
       "fit for the farthest point within delta of `x_i` and all points in\n",
       "between are estimated by linearly interpolating between the two\n",
       "regression fits.\n",
       "\n",
       "Judicious choice of delta can cut computation time considerably\n",
       "for large data (N > 5000). A good choice is ``delta = 0.01 * range(exog)``.\n",
       "\n",
       "Some experimentation is likely required to find a good\n",
       "choice of `frac` and `iter` for a particular dataset.\n",
       "\n",
       "References\n",
       "----------\n",
       "Cleveland, W.S. (1979) \"Robust Locally Weighted Regression\n",
       "and Smoothing Scatterplots\". Journal of the American Statistical\n",
       "Association 74 (368): 829-836.\n",
       "\n",
       "Examples\n",
       "--------\n",
       "The below allows a comparison between how different the fits from\n",
       "lowess for different values of frac can be.\n",
       "\n",
       ">>> import numpy as np\n",
       ">>> import statsmodels.api as sm\n",
       ">>> lowess = sm.nonparametric.lowess\n",
       ">>> x = np.random.uniform(low = -2*np.pi, high = 2*np.pi, size=500)\n",
       ">>> y = np.sin(x) + np.random.normal(size=len(x))\n",
       ">>> z = lowess(y, x)\n",
       ">>> w = lowess(y, x, frac=1./3)\n",
       "\n",
       "This gives a similar comparison for when it is 0 vs not.\n",
       "\n",
       ">>> import numpy as np\n",
       ">>> import scipy.stats as stats\n",
       ">>> import statsmodels.api as sm\n",
       ">>> lowess = sm.nonparametric.lowess\n",
       ">>> x = np.random.uniform(low = -2*np.pi, high = 2*np.pi, size=500)\n",
       ">>> y = np.sin(x) + stats.cauchy.rvs(size=len(x))\n",
       ">>> z = lowess(y, x, frac= 1./3, it=0)\n",
       ">>> w = lowess(y, x, frac=1./3)\n",
       "\u001b[0;31mFile:\u001b[0m      ~/Software/miniconda3/lib/python3.6/site-packages/statsmodels/nonparametric/smoothers_lowess.py\n",
       "\u001b[0;31mType:\u001b[0m      function\n"
      ]
     },
     "metadata": {},
     "output_type": "display_data"
    }
   ],
   "source": [
    "lowess?"
   ]
  },
  {
   "cell_type": "code",
   "execution_count": null,
   "metadata": {},
   "outputs": [],
   "source": []
  },
  {
   "cell_type": "code",
   "execution_count": null,
   "metadata": {},
   "outputs": [],
   "source": []
  }
 ],
 "metadata": {
  "kernelspec": {
   "display_name": "Python 3",
   "language": "python",
   "name": "python3"
  },
  "language_info": {
   "codemirror_mode": {
    "name": "ipython",
    "version": 3
   },
   "file_extension": ".py",
   "mimetype": "text/x-python",
   "name": "python",
   "nbconvert_exporter": "python",
   "pygments_lexer": "ipython3",
   "version": "3.6.9"
  },
  "toc-autonumbering": true
 },
 "nbformat": 4,
 "nbformat_minor": 4
}
